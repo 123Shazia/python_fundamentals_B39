{
 "cells": [
  {
   "cell_type": "code",
   "execution_count": null,
   "metadata": {},
   "outputs": [],
   "source": [
    "# QUESTION NO.1"
   ]
  },
  {
   "cell_type": "code",
   "execution_count": null,
   "metadata": {},
   "outputs": [],
   "source": [
    "# 3 kinds of pizzas"
   ]
  },
  {
   "cell_type": "code",
   "execution_count": 1,
   "metadata": {},
   "outputs": [],
   "source": [
    "# storing the pizzas in the list"
   ]
  },
  {
   "cell_type": "code",
   "execution_count": 2,
   "metadata": {},
   "outputs": [],
   "source": [
    "pizzas = ['veg loaded','corn pizza','non-veg pizza']"
   ]
  },
  {
   "cell_type": "code",
   "execution_count": 3,
   "metadata": {},
   "outputs": [
    {
     "data": {
      "text/plain": [
       "list"
      ]
     },
     "execution_count": 3,
     "metadata": {},
     "output_type": "execute_result"
    }
   ],
   "source": [
    "type(pizzas)"
   ]
  },
  {
   "cell_type": "code",
   "execution_count": null,
   "metadata": {},
   "outputs": [],
   "source": [
    "#using for loop to print each pizza"
   ]
  },
  {
   "cell_type": "code",
   "execution_count": 5,
   "metadata": {},
   "outputs": [
    {
     "name": "stdout",
     "output_type": "stream",
     "text": [
      "veg loaded\n",
      "corn pizza\n",
      "non-veg pizza\n"
     ]
    }
   ],
   "source": [
    "for x in pizzas:\n",
    "    print(x)"
   ]
  },
  {
   "cell_type": "code",
   "execution_count": null,
   "metadata": {},
   "outputs": [],
   "source": [
    "# Modifing for loop to print a sentence using the name of the pizza instead of printing just the name of the pizza."
   ]
  },
  {
   "cell_type": "code",
   "execution_count": 13,
   "metadata": {},
   "outputs": [
    {
     "name": "stdout",
     "output_type": "stream",
     "text": [
      "I like veg loaded\n",
      "I like corn pizza\n",
      "I like non-veg pizza\n"
     ]
    }
   ],
   "source": [
    "for a in pizzas:\n",
    "    print(f\"I like {a}\")"
   ]
  },
  {
   "cell_type": "code",
   "execution_count": null,
   "metadata": {},
   "outputs": [],
   "source": [
    "# Adding a line at the end of your program, outside the for loop, that states how much you like pizza"
   ]
  },
  {
   "cell_type": "code",
   "execution_count": 18,
   "metadata": {},
   "outputs": [
    {
     "name": "stdout",
     "output_type": "stream",
     "text": [
      "I like veg loaded\n",
      "I like corn pizza\n",
      "I like non-veg pizza\n",
      "All the above pizzas are my favourite, I really love pizza!\n"
     ]
    }
   ],
   "source": [
    "for a in pizzas:\n",
    "    print(f\"I like {a}\")\n",
    "print(\"All the above pizzas are my favourite, I really love pizza!\")"
   ]
  },
  {
   "cell_type": "code",
   "execution_count": 19,
   "metadata": {},
   "outputs": [
    {
     "name": "stdout",
     "output_type": "stream",
     "text": [
      "I like veg loaded.\n",
      "\n",
      "I like corn pizza.\n",
      "\n",
      "I like non-veg pizza.\n",
      "\n",
      "All the above pizzas are my favourite, I really love pizzas!\n"
     ]
    }
   ],
   "source": [
    "for a in pizzas:\n",
    "    print(f\"I like {a}.\\n\")\n",
    "print(\"All the above pizzas are my favourite, I really love pizzas!\")"
   ]
  },
  {
   "cell_type": "code",
   "execution_count": null,
   "metadata": {},
   "outputs": [],
   "source": [
    "# QUESTION NO.2"
   ]
  },
  {
   "cell_type": "code",
   "execution_count": null,
   "metadata": {},
   "outputs": [],
   "source": [
    "# three different animals that have a common characteristic."
   ]
  },
  {
   "cell_type": "code",
   "execution_count": 20,
   "metadata": {},
   "outputs": [],
   "source": [
    "animals = ['tiger','lion','cheetah']"
   ]
  },
  {
   "cell_type": "code",
   "execution_count": 21,
   "metadata": {},
   "outputs": [
    {
     "data": {
      "text/plain": [
       "list"
      ]
     },
     "execution_count": 21,
     "metadata": {},
     "output_type": "execute_result"
    }
   ],
   "source": [
    "type(animals)"
   ]
  },
  {
   "cell_type": "code",
   "execution_count": 22,
   "metadata": {},
   "outputs": [
    {
     "name": "stdout",
     "output_type": "stream",
     "text": [
      "tiger\n",
      "lion\n",
      "cheetah\n"
     ]
    }
   ],
   "source": [
    "for a in animals:\n",
    "    print(a)"
   ]
  },
  {
   "cell_type": "code",
   "execution_count": 23,
   "metadata": {},
   "outputs": [
    {
     "name": "stdout",
     "output_type": "stream",
     "text": [
      "Tiger\n",
      "Lion\n",
      "Cheetah\n"
     ]
    }
   ],
   "source": [
    "for a in animals:\n",
    "    print(a.title())"
   ]
  },
  {
   "cell_type": "code",
   "execution_count": 31,
   "metadata": {},
   "outputs": [
    {
     "name": "stdout",
     "output_type": "stream",
     "text": [
      "It is the wild Animal,Tiger\n",
      "It is the wild Animal,Lion\n",
      "It is the wild Animal,Cheetah\n"
     ]
    }
   ],
   "source": [
    "for a in animals:\n",
    "    print(f\"It is the wild Animal,{a.title()}\")\n"
   ]
  },
  {
   "cell_type": "code",
   "execution_count": 32,
   "metadata": {},
   "outputs": [
    {
     "name": "stdout",
     "output_type": "stream",
     "text": [
      "It is the wild Animal,Tiger\n",
      "It is the wild Animal,Lion\n",
      "It is the wild Animal,Cheetah\n",
      "All the above animals are Carnivorous,they eat flesh of other animals\n"
     ]
    }
   ],
   "source": [
    "for a in animals:\n",
    "    print(f\"It is the wild Animal,{a.title()}\")\n",
    "print(\"All the above animals are Carnivorous,they eat flesh of other animals\") #carnivorous is the common characteristic"
   ]
  },
  {
   "cell_type": "code",
   "execution_count": null,
   "metadata": {},
   "outputs": [],
   "source": [
    "# QUESTION NO.3"
   ]
  },
  {
   "cell_type": "code",
   "execution_count": null,
   "metadata": {},
   "outputs": [],
   "source": [
    "#creating variable name alien_colors"
   ]
  },
  {
   "cell_type": "code",
   "execution_count": 33,
   "metadata": {},
   "outputs": [],
   "source": [
    "alien_color = 'green'"
   ]
  },
  {
   "cell_type": "code",
   "execution_count": 37,
   "metadata": {},
   "outputs": [
    {
     "name": "stdout",
     "output_type": "stream",
     "text": [
      "player earned 5 points\n"
     ]
    }
   ],
   "source": [
    "if alien_color == 'green':\n",
    "    print(\"player earned 5 points\")\n",
    "else:\n",
    "    print(\"no output\")                   #if test passes"
   ]
  },
  {
   "cell_type": "code",
   "execution_count": 38,
   "metadata": {},
   "outputs": [
    {
     "name": "stdout",
     "output_type": "stream",
     "text": [
      "no output\n"
     ]
    }
   ],
   "source": [
    "if alien_color == 'red':\n",
    "    print(\"player earned 5 points\")\n",
    "else:\n",
    "    print(\"no output\")                # if test fails"
   ]
  },
  {
   "cell_type": "code",
   "execution_count": 39,
   "metadata": {},
   "outputs": [],
   "source": [
    "# QUESTION NO.4"
   ]
  },
  {
   "cell_type": "code",
   "execution_count": 41,
   "metadata": {},
   "outputs": [
    {
     "name": "stdout",
     "output_type": "stream",
     "text": [
      "player just earned 5 points for shooting the alien\n"
     ]
    }
   ],
   "source": [
    "if alien_color == 'green':\n",
    "    print(\"player just earned 5 points for shooting the alien\")\n",
    "else:\n",
    "    print(\" player just earned 10 points\")   #runs if block "
   ]
  },
  {
   "cell_type": "code",
   "execution_count": 42,
   "metadata": {},
   "outputs": [
    {
     "name": "stdout",
     "output_type": "stream",
     "text": [
      " player just earned 10 points\n"
     ]
    }
   ],
   "source": [
    "if alien_color == 'red':\n",
    "    print(\"player just earned 5 points for shooting the alien\")\n",
    "else:\n",
    "    print(\" player just earned 10 points\") #runs else block "
   ]
  },
  {
   "cell_type": "code",
   "execution_count": null,
   "metadata": {},
   "outputs": [],
   "source": []
  }
 ],
 "metadata": {
  "kernelspec": {
   "display_name": "Python 3",
   "language": "python",
   "name": "python3"
  },
  "language_info": {
   "codemirror_mode": {
    "name": "ipython",
    "version": 3
   },
   "file_extension": ".py",
   "mimetype": "text/x-python",
   "name": "python",
   "nbconvert_exporter": "python",
   "pygments_lexer": "ipython3",
   "version": "3.8.5"
  }
 },
 "nbformat": 4,
 "nbformat_minor": 4
}
