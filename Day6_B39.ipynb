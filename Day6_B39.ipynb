{
 "cells": [
  {
   "cell_type": "code",
   "execution_count": null,
   "metadata": {},
   "outputs": [],
   "source": [
    "# Introduction to for loops in Python"
   ]
  },
  {
   "cell_type": "code",
   "execution_count": 1,
   "metadata": {},
   "outputs": [],
   "source": [
    "users = ['karthik','shazia','priyanka','naveen','ravi','afsha','bhavana']"
   ]
  },
  {
   "cell_type": "code",
   "execution_count": 2,
   "metadata": {},
   "outputs": [
    {
     "name": "stdout",
     "output_type": "stream",
     "text": [
      "['karthik', 'shazia', 'priyanka', 'naveen', 'ravi', 'afsha', 'bhavana']\n"
     ]
    }
   ],
   "source": [
    "print(users)"
   ]
  },
  {
   "cell_type": "code",
   "execution_count": 3,
   "metadata": {},
   "outputs": [
    {
     "data": {
      "text/plain": [
       "list"
      ]
     },
     "execution_count": 3,
     "metadata": {},
     "output_type": "execute_result"
    }
   ],
   "source": [
    "type(users)"
   ]
  },
  {
   "cell_type": "code",
   "execution_count": 4,
   "metadata": {},
   "outputs": [],
   "source": [
    "#req : i want to thank the users for doing the job on-time"
   ]
  },
  {
   "cell_type": "code",
   "execution_count": 5,
   "metadata": {},
   "outputs": [
    {
     "name": "stdout",
     "output_type": "stream",
     "text": [
      "Thank you for doing the job on-time, Karthik\n"
     ]
    }
   ],
   "source": [
    "print(f\"Thank you for doing the job on-time, {users[0].title()}\")"
   ]
  },
  {
   "cell_type": "code",
   "execution_count": 6,
   "metadata": {},
   "outputs": [
    {
     "name": "stdout",
     "output_type": "stream",
     "text": [
      "Thank you for doing the job on-time, Shazia\n"
     ]
    }
   ],
   "source": [
    "print(f\"Thank you for doing the job on-time, {users[1].title()}\")"
   ]
  },
  {
   "cell_type": "code",
   "execution_count": 7,
   "metadata": {},
   "outputs": [],
   "source": [
    "# note : can't do it for each and every user hencew introducing for loops"
   ]
  },
  {
   "cell_type": "code",
   "execution_count": 8,
   "metadata": {},
   "outputs": [],
   "source": [
    "# GENERIC SYNTAX"
   ]
  },
  {
   "cell_type": "code",
   "execution_count": 9,
   "metadata": {},
   "outputs": [
    {
     "ename": "SyntaxError",
     "evalue": "invalid syntax (<ipython-input-9-92adaca33acd>, line 1)",
     "output_type": "error",
     "traceback": [
      "\u001b[1;36m  File \u001b[1;32m\"<ipython-input-9-92adaca33acd>\"\u001b[1;36m, line \u001b[1;32m1\u001b[0m\n\u001b[1;33m    for tempvar in mainvar\u001b[0m\n\u001b[1;37m                          ^\u001b[0m\n\u001b[1;31mSyntaxError\u001b[0m\u001b[1;31m:\u001b[0m invalid syntax\n"
     ]
    }
   ],
   "source": [
    "for tempvar in mainvar\n",
    "    print(tempvar) #gap is called as intendation"
   ]
  },
  {
   "cell_type": "code",
   "execution_count": 10,
   "metadata": {},
   "outputs": [
    {
     "ename": "SyntaxError",
     "evalue": "invalid syntax (<ipython-input-10-b94765adb5b8>, line 1)",
     "output_type": "error",
     "traceback": [
      "\u001b[1;36m  File \u001b[1;32m\"<ipython-input-10-b94765adb5b8>\"\u001b[1;36m, line \u001b[1;32m1\u001b[0m\n\u001b[1;33m    for tempvar in mainvar\u001b[0m\n\u001b[1;37m                          ^\u001b[0m\n\u001b[1;31mSyntaxError\u001b[0m\u001b[1;31m:\u001b[0m invalid syntax\n"
     ]
    }
   ],
   "source": [
    "for tempvar in mainvar"
   ]
  },
  {
   "cell_type": "code",
   "execution_count": 11,
   "metadata": {},
   "outputs": [
    {
     "ename": "NameError",
     "evalue": "name 'mainvar' is not defined",
     "output_type": "error",
     "traceback": [
      "\u001b[1;31m---------------------------------------------------------------------------\u001b[0m",
      "\u001b[1;31mNameError\u001b[0m                                 Traceback (most recent call last)",
      "\u001b[1;32m<ipython-input-11-507c6b5268ea>\u001b[0m in \u001b[0;36m<module>\u001b[1;34m\u001b[0m\n\u001b[1;32m----> 1\u001b[1;33m \u001b[1;32mfor\u001b[0m \u001b[0mtempvar\u001b[0m \u001b[1;32min\u001b[0m \u001b[0mmainvar\u001b[0m\u001b[1;33m:\u001b[0m\u001b[1;33m\u001b[0m\u001b[1;33m\u001b[0m\u001b[0m\n\u001b[0m\u001b[0;32m      2\u001b[0m     \u001b[0mprint\u001b[0m\u001b[1;33m(\u001b[0m\u001b[0mtempvar\u001b[0m\u001b[1;33m)\u001b[0m  \u001b[1;31m#gap is called as intendation\u001b[0m\u001b[1;33m\u001b[0m\u001b[1;33m\u001b[0m\u001b[0m\n",
      "\u001b[1;31mNameError\u001b[0m: name 'mainvar' is not defined"
     ]
    }
   ],
   "source": [
    "for tempvar in mainvar:\n",
    "    print(tempvar)  #gap is called as intendation\n"
   ]
  },
  {
   "cell_type": "code",
   "execution_count": 12,
   "metadata": {},
   "outputs": [
    {
     "ename": "NameError",
     "evalue": "name 'mainvar' is not defined",
     "output_type": "error",
     "traceback": [
      "\u001b[1;31m---------------------------------------------------------------------------\u001b[0m",
      "\u001b[1;31mNameError\u001b[0m                                 Traceback (most recent call last)",
      "\u001b[1;32m<ipython-input-12-79cff90acbb9>\u001b[0m in \u001b[0;36m<module>\u001b[1;34m\u001b[0m\n\u001b[1;32m----> 1\u001b[1;33m \u001b[1;32mfor\u001b[0m \u001b[0mtempvar\u001b[0m \u001b[1;32min\u001b[0m \u001b[0mmainvar\u001b[0m\u001b[1;33m:\u001b[0m\u001b[1;33m\u001b[0m\u001b[1;33m\u001b[0m\u001b[0m\n\u001b[0m\u001b[0;32m      2\u001b[0m     \u001b[0mprint\u001b[0m\u001b[1;33m(\u001b[0m\u001b[0mtempvar\u001b[0m\u001b[1;33m)\u001b[0m\u001b[1;33m\u001b[0m\u001b[1;33m\u001b[0m\u001b[0m\n",
      "\u001b[1;31mNameError\u001b[0m: name 'mainvar' is not defined"
     ]
    }
   ],
   "source": [
    "for tempvar in mainvar:\n",
    "    print(tempvar)"
   ]
  },
  {
   "cell_type": "code",
   "execution_count": 13,
   "metadata": {},
   "outputs": [
    {
     "ename": "NameError",
     "evalue": "name 'mainvar' is not defined",
     "output_type": "error",
     "traceback": [
      "\u001b[1;31m---------------------------------------------------------------------------\u001b[0m",
      "\u001b[1;31mNameError\u001b[0m                                 Traceback (most recent call last)",
      "\u001b[1;32m<ipython-input-13-79cff90acbb9>\u001b[0m in \u001b[0;36m<module>\u001b[1;34m\u001b[0m\n\u001b[1;32m----> 1\u001b[1;33m \u001b[1;32mfor\u001b[0m \u001b[0mtempvar\u001b[0m \u001b[1;32min\u001b[0m \u001b[0mmainvar\u001b[0m\u001b[1;33m:\u001b[0m\u001b[1;33m\u001b[0m\u001b[1;33m\u001b[0m\u001b[0m\n\u001b[0m\u001b[0;32m      2\u001b[0m     \u001b[0mprint\u001b[0m\u001b[1;33m(\u001b[0m\u001b[0mtempvar\u001b[0m\u001b[1;33m)\u001b[0m\u001b[1;33m\u001b[0m\u001b[1;33m\u001b[0m\u001b[0m\n",
      "\u001b[1;31mNameError\u001b[0m: name 'mainvar' is not defined"
     ]
    }
   ],
   "source": [
    "for tempvar in mainvar:\n",
    "    print(tempvar)"
   ]
  },
  {
   "cell_type": "code",
   "execution_count": null,
   "metadata": {},
   "outputs": [],
   "source": [
    "for tempvar in mainvar:\n",
    "    print(tempvar)"
   ]
  },
  {
   "cell_type": "code",
   "execution_count": 14,
   "metadata": {},
   "outputs": [
    {
     "name": "stdout",
     "output_type": "stream",
     "text": [
      "keep up the goodwork,karthik\n",
      "keep up the goodwork,shazia\n",
      "keep up the goodwork,priyanka\n",
      "keep up the goodwork,naveen\n",
      "keep up the goodwork,ravi\n",
      "keep up the goodwork,afsha\n",
      "keep up the goodwork,bhavana\n"
     ]
    }
   ],
   "source": [
    "for x in users:\n",
    "    print(f\"keep up the goodwork,{x}\")"
   ]
  },
  {
   "cell_type": "code",
   "execution_count": 15,
   "metadata": {},
   "outputs": [
    {
     "name": "stdout",
     "output_type": "stream",
     "text": [
      "keep up the goodwork,Karthik\n",
      "keep up the goodwork,Shazia\n",
      "keep up the goodwork,Priyanka\n",
      "keep up the goodwork,Naveen\n",
      "keep up the goodwork,Ravi\n",
      "keep up the goodwork,Afsha\n",
      "keep up the goodwork,Bhavana\n"
     ]
    }
   ],
   "source": [
    "for x in users:\n",
    "    print(f\"keep up the goodwork,{x.title()}\")"
   ]
  },
  {
   "cell_type": "code",
   "execution_count": 16,
   "metadata": {},
   "outputs": [],
   "source": [
    "# note: x is tempvar // anything can be used instead of that\n"
   ]
  },
  {
   "cell_type": "code",
   "execution_count": 17,
   "metadata": {},
   "outputs": [],
   "source": [
    "#enhancement:"
   ]
  },
  {
   "cell_type": "code",
   "execution_count": 18,
   "metadata": {},
   "outputs": [
    {
     "name": "stdout",
     "output_type": "stream",
     "text": [
      "keep up the goodwork,Karthik\n",
      "i will looking forword the same in future,Karthik\n",
      "keep up the goodwork,Shazia\n",
      "i will looking forword the same in future,Shazia\n",
      "keep up the goodwork,Priyanka\n",
      "i will looking forword the same in future,Priyanka\n",
      "keep up the goodwork,Naveen\n",
      "i will looking forword the same in future,Naveen\n",
      "keep up the goodwork,Ravi\n",
      "i will looking forword the same in future,Ravi\n",
      "keep up the goodwork,Afsha\n",
      "i will looking forword the same in future,Afsha\n",
      "keep up the goodwork,Bhavana\n",
      "i will looking forword the same in future,Bhavana\n"
     ]
    }
   ],
   "source": [
    "for a in users:\n",
    "    print(f\"keep up the goodwork,{a.title()}\")\n",
    "    print(f\"i will looking forword the same in future,{a.title()}\") "
   ]
  },
  {
   "cell_type": "code",
   "execution_count": 19,
   "metadata": {},
   "outputs": [
    {
     "ename": "SyntaxError",
     "evalue": "f-string expression part cannot include a backslash (<ipython-input-19-3e9ae0e38f63>, line 3)",
     "output_type": "error",
     "traceback": [
      "\u001b[1;36m  File \u001b[1;32m\"<ipython-input-19-3e9ae0e38f63>\"\u001b[1;36m, line \u001b[1;32m3\u001b[0m\n\u001b[1;33m    print(f\"i will looking forword the same in future,{a.title().\\n}\")\u001b[0m\n\u001b[1;37m          ^\u001b[0m\n\u001b[1;31mSyntaxError\u001b[0m\u001b[1;31m:\u001b[0m f-string expression part cannot include a backslash\n"
     ]
    }
   ],
   "source": [
    "for a in users:\n",
    "    print(f\"keep up the goodwork,{a.title()}\")\n",
    "    print(f\"i will looking forword the same in future,{a.title().\\n}\")"
   ]
  },
  {
   "cell_type": "code",
   "execution_count": 20,
   "metadata": {},
   "outputs": [
    {
     "ename": "SyntaxError",
     "evalue": "unexpected EOF while parsing (<fstring>, line 1)",
     "output_type": "error",
     "traceback": [
      "\u001b[1;36m  File \u001b[1;32m\"<fstring>\"\u001b[1;36m, line \u001b[1;32m1\u001b[0m\n\u001b[1;33m    (a.title().)\u001b[0m\n\u001b[1;37m               ^\u001b[0m\n\u001b[1;31mSyntaxError\u001b[0m\u001b[1;31m:\u001b[0m unexpected EOF while parsing\n"
     ]
    }
   ],
   "source": [
    "for a in users:\n",
    "    print(f\"keep up the goodwork,{a.title()}\")\n",
    "    print(f\"i will looking forword the same in future,{a.title().}.\\n\")"
   ]
  },
  {
   "cell_type": "code",
   "execution_count": 21,
   "metadata": {},
   "outputs": [
    {
     "name": "stdout",
     "output_type": "stream",
     "text": [
      "keep up the goodwork,Karthik\n",
      "i will looking forword the same in future,karthik.\n",
      "\n",
      "keep up the goodwork,Shazia\n",
      "i will looking forword the same in future,shazia.\n",
      "\n",
      "keep up the goodwork,Priyanka\n",
      "i will looking forword the same in future,priyanka.\n",
      "\n",
      "keep up the goodwork,Naveen\n",
      "i will looking forword the same in future,naveen.\n",
      "\n",
      "keep up the goodwork,Ravi\n",
      "i will looking forword the same in future,ravi.\n",
      "\n",
      "keep up the goodwork,Afsha\n",
      "i will looking forword the same in future,afsha.\n",
      "\n",
      "keep up the goodwork,Bhavana\n",
      "i will looking forword the same in future,bhavana.\n",
      "\n"
     ]
    }
   ],
   "source": [
    "for a in users:\n",
    "    print(f\"keep up the goodwork,{a.title()}\")\n",
    "    print(f\"i will looking forword the same in future,{a}.\\n\")"
   ]
  },
  {
   "cell_type": "code",
   "execution_count": 22,
   "metadata": {},
   "outputs": [
    {
     "name": "stdout",
     "output_type": "stream",
     "text": [
      "keep up the goodwork,Karthik\n",
      "i will looking forword the same in future,Karthik.\n",
      "\n",
      "keep up the goodwork,Shazia\n",
      "i will looking forword the same in future,Shazia.\n",
      "\n",
      "keep up the goodwork,Priyanka\n",
      "i will looking forword the same in future,Priyanka.\n",
      "\n",
      "keep up the goodwork,Naveen\n",
      "i will looking forword the same in future,Naveen.\n",
      "\n",
      "keep up the goodwork,Ravi\n",
      "i will looking forword the same in future,Ravi.\n",
      "\n",
      "keep up the goodwork,Afsha\n",
      "i will looking forword the same in future,Afsha.\n",
      "\n",
      "keep up the goodwork,Bhavana\n",
      "i will looking forword the same in future,Bhavana.\n",
      "\n"
     ]
    }
   ],
   "source": [
    "for a in users:\n",
    "    print(f\"keep up the goodwork,{a.title()}\")\n",
    "    print(f\"i will looking forword the same in future,{a.title()}.\\n\") #adding delimeter (looks clear and tidy)"
   ]
  },
  {
   "cell_type": "code",
   "execution_count": 23,
   "metadata": {},
   "outputs": [],
   "source": [
    "\n",
    "# the above work was inside the loop\n",
    "\n",
    "#now practising outside the loop"
   ]
  },
  {
   "cell_type": "code",
   "execution_count": 24,
   "metadata": {},
   "outputs": [
    {
     "name": "stdout",
     "output_type": "stream",
     "text": [
      "keepup the good work, Karthik\n",
      "looking forward the same in future, Karthik.\n",
      "\n",
      "keepup the good work, Shazia\n",
      "looking forward the same in future, Shazia.\n",
      "\n",
      "keepup the good work, Priyanka\n",
      "looking forward the same in future, Priyanka.\n",
      "\n",
      "keepup the good work, Naveen\n",
      "looking forward the same in future, Naveen.\n",
      "\n",
      "keepup the good work, Ravi\n",
      "looking forward the same in future, Ravi.\n",
      "\n",
      "keepup the good work, Afsha\n",
      "looking forward the same in future, Afsha.\n",
      "\n",
      "keepup the good work, Bhavana\n",
      "looking forward the same in future, Bhavana.\n",
      "\n",
      "Thank you all\n"
     ]
    }
   ],
   "source": [
    "for a in users:\n",
    "    print(f\"keepup the good work, {a.title()}\")                     # inside the loop\n",
    "    print(f\"looking forward the same in future, {a.title()}.\\n\")    # inside the loop\n",
    "print(\"Thank you all\") # outside the loop"
   ]
  },
  {
   "cell_type": "code",
   "execution_count": 25,
   "metadata": {},
   "outputs": [],
   "source": [
    "# NOTE: Intendation is compulsory in the for loop if not we get Intendation error "
   ]
  },
  {
   "cell_type": "code",
   "execution_count": 26,
   "metadata": {},
   "outputs": [],
   "source": [
    "# RANGE FUNCTION:\n"
   ]
  },
  {
   "cell_type": "code",
   "execution_count": 27,
   "metadata": {},
   "outputs": [],
   "source": [
    "#REQ : i want to have a list of even numbers till 20........?"
   ]
  },
  {
   "cell_type": "code",
   "execution_count": 28,
   "metadata": {},
   "outputs": [],
   "source": [
    "# GENERAL SYNTAX"
   ]
  },
  {
   "cell_type": "code",
   "execution_count": 29,
   "metadata": {},
   "outputs": [],
   "source": [
    "# range(startvalue,stopvalue,stepcount) #last valiue is always exclusive"
   ]
  },
  {
   "cell_type": "code",
   "execution_count": 30,
   "metadata": {},
   "outputs": [
    {
     "ename": "NameError",
     "evalue": "name 'eve_num' is not defined",
     "output_type": "error",
     "traceback": [
      "\u001b[1;31m---------------------------------------------------------------------------\u001b[0m",
      "\u001b[1;31mNameError\u001b[0m                                 Traceback (most recent call last)",
      "\u001b[1;32m<ipython-input-30-1b77bd9e2272>\u001b[0m in \u001b[0;36m<module>\u001b[1;34m\u001b[0m\n\u001b[0;32m      1\u001b[0m \u001b[0meven_num\u001b[0m \u001b[1;33m=\u001b[0m \u001b[0mlist\u001b[0m\u001b[1;33m(\u001b[0m\u001b[0mrange\u001b[0m\u001b[1;33m(\u001b[0m\u001b[1;36m2\u001b[0m\u001b[1;33m,\u001b[0m\u001b[1;36m20\u001b[0m\u001b[1;33m,\u001b[0m\u001b[1;36m2\u001b[0m\u001b[1;33m)\u001b[0m\u001b[1;33m)\u001b[0m\u001b[1;33m\u001b[0m\u001b[1;33m\u001b[0m\u001b[0m\n\u001b[1;32m----> 2\u001b[1;33m \u001b[0mprint\u001b[0m\u001b[1;33m(\u001b[0m\u001b[0meve_num\u001b[0m\u001b[1;33m)\u001b[0m\u001b[1;33m\u001b[0m\u001b[1;33m\u001b[0m\u001b[0m\n\u001b[0m",
      "\u001b[1;31mNameError\u001b[0m: name 'eve_num' is not defined"
     ]
    }
   ],
   "source": [
    "even_num = list(range(2,20,2))\n",
    "print(eve_num)"
   ]
  },
  {
   "cell_type": "code",
   "execution_count": 31,
   "metadata": {},
   "outputs": [
    {
     "name": "stdout",
     "output_type": "stream",
     "text": [
      "[2, 4, 6, 8, 10, 12, 14, 16, 18]\n"
     ]
    }
   ],
   "source": [
    "even_num = list(range(2,20,2))\n",
    "print(eve_num)"
   ]
  },
  {
   "cell_type": "code",
   "execution_count": 32,
   "metadata": {},
   "outputs": [
    {
     "name": "stdout",
     "output_type": "stream",
     "text": [
      "range(2, 20, 2)\n"
     ]
    }
   ],
   "source": [
    "even_num = range(2,20,2)\n",
    "print(even_num)"
   ]
  },
  {
   "cell_type": "code",
   "execution_count": 33,
   "metadata": {},
   "outputs": [
    {
     "name": "stdout",
     "output_type": "stream",
     "text": [
      "[2, 4, 6, 8, 10, 12, 14, 16, 18]\n"
     ]
    }
   ],
   "source": [
    "even_num = list(range(2,20,2))\n",
    "print(even_num)"
   ]
  },
  {
   "cell_type": "code",
   "execution_count": 34,
   "metadata": {},
   "outputs": [
    {
     "name": "stdout",
     "output_type": "stream",
     "text": [
      "range(2, 20, 2)\n"
     ]
    }
   ],
   "source": [
    "even_num = str(range(2,20,2))\n",
    "print(even_num)"
   ]
  },
  {
   "cell_type": "code",
   "execution_count": 35,
   "metadata": {},
   "outputs": [
    {
     "name": "stdout",
     "output_type": "stream",
     "text": [
      "[2, 4, 6, 8, 10, 12, 14, 16, 18]\n"
     ]
    }
   ],
   "source": [
    "even_num = list(range(2,20,2))\n",
    "print(even_num)"
   ]
  }
 ],
 "metadata": {
  "kernelspec": {
   "display_name": "Python 3",
   "language": "python",
   "name": "python3"
  },
  "language_info": {
   "codemirror_mode": {
    "name": "ipython",
    "version": 3
   },
   "file_extension": ".py",
   "mimetype": "text/x-python",
   "name": "python",
   "nbconvert_exporter": "python",
   "pygments_lexer": "ipython3",
   "version": "3.8.5"
  }
 },
 "nbformat": 4,
 "nbformat_minor": 4
}
